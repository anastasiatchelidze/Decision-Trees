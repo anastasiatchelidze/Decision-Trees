{
  "nbformat": 4,
  "nbformat_minor": 0,
  "metadata": {
    "colab": {
      "provenance": []
    },
    "kernelspec": {
      "name": "python3",
      "display_name": "Python 3"
    },
    "language_info": {
      "name": "python"
    }
  },
  "cells": [
    {
      "cell_type": "code",
      "execution_count": 1,
      "metadata": {
        "id": "DRSWCMoMGz4z"
      },
      "outputs": [],
      "source": [
        "import sklearn as sk\n",
        "from sklearn.datasets import make_classification\n",
        "from sklearn.model_selection import train_test_split\n",
        "\n",
        "X, y = make_classification(2500, n_informative=4, n_classes=3, random_state=42)\n",
        "X_train, X_test, y_train, y_test = train_test_split(X, y, test_size=0.2, random_state=42)"
      ]
    },
    {
      "cell_type": "code",
      "execution_count": 2,
      "metadata": {
        "colab": {
          "base_uri": "https://localhost:8080/"
        },
        "id": "ka8YsSghkfQO",
        "outputId": "10b6d7c9-5cf4-46f1-f655-b179ed15ea16"
      },
      "outputs": [
        {
          "output_type": "stream",
          "name": "stdout",
          "text": [
            "{'ccp_alpha': 0.0, 'criterion': 'entropy'}\n",
            "0.7715000000000001\n"
          ]
        }
      ],
      "source": [
        "import numpy as np\n",
        "from sklearn.tree import DecisionTreeClassifier\n",
        "from sklearn.model_selection import GridSearchCV\n",
        "\n",
        "params = {\n",
        "    'criterion': (\"gini\", \"entropy\"),\n",
        "    'ccp_alpha': np.arange(0,1,0.1)\n",
        "    }\n",
        "\n",
        "grid = GridSearchCV(DecisionTreeClassifier(), params, refit = True, cv=10) \n",
        "grid.fit(X_train, y_train) \n",
        "print(grid.best_params_) \n",
        "print(grid.best_score_)"
      ]
    },
    {
      "cell_type": "code",
      "source": [
        "from sklearn.ensemble import BaggingClassifier\n",
        "from sklearn.neighbors import KNeighborsClassifier\n",
        "from sklearn.metrics import f1_score\n",
        "\n",
        "neigh = BaggingClassifier(base_estimator=KNeighborsClassifier(n_neighbors=1),\n",
        "                        n_estimators=7, random_state=42)\n",
        "neigh.fit(X_train, y_train)\n",
        "y_pred_test = neigh.predict(X_test)\n",
        "acc_test = f1_score(y_test, y_pred_test, average=\"weighted\")\n",
        "print(acc_test)"
      ],
      "metadata": {
        "colab": {
          "base_uri": "https://localhost:8080/"
        },
        "id": "EGh2H4sCkph0",
        "outputId": "73216e81-bf8e-4183-b6ec-5e6aa090c279"
      },
      "execution_count": 3,
      "outputs": [
        {
          "output_type": "stream",
          "name": "stdout",
          "text": [
            "0.6763166614890753\n"
          ]
        }
      ]
    }
  ]
}